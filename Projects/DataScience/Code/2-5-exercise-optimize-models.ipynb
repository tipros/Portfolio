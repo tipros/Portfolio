{
  "cells": [
    {
      "cell_type": "markdown",
      "id": "f8a6a8d0-0f3b-411c-827c-87024cd5dca4",
      "metadata": {},
      "source": [
        "# Exercise: Supervised learning by using different cost functions\n",
        "\n",
        "In this exercise, we'll take a deeper look at how cost functions can change:\n",
        "\n",
        "* How well models appear to have fit data\n",
        "* The kinds of relationships a model represents\n",
        "\n",
        "## Loading the data\n",
        "\n",
        "Let's start by loading the data. To make this exercise simpler, we'll use only a few datapoints this time."
      ]
    },
    {
      "cell_type": "code",
      "execution_count": 1,
      "id": "dcc46620-8d92-4602-8b3b-cb4790aefd2a",
      "metadata": {},
      "outputs": [
        {
          "data": {
            "text/html": [
              "<div>\n",
              "<style scoped>\n",
              "    .dataframe tbody tr th:only-of-type {\n",
              "        vertical-align: middle;\n",
              "    }\n",
              "\n",
              "    .dataframe tbody tr th {\n",
              "        vertical-align: top;\n",
              "    }\n",
              "\n",
              "    .dataframe thead th {\n",
              "        text-align: right;\n",
              "    }\n",
              "</style>\n",
              "<table border=\"1\" class=\"dataframe\">\n",
              "  <thead>\n",
              "    <tr style=\"text-align: right;\">\n",
              "      <th></th>\n",
              "      <th>date</th>\n",
              "      <th>amount_of_precipitation</th>\n",
              "      <th>max_temperature</th>\n",
              "      <th>min_temperature</th>\n",
              "      <th>rain</th>\n",
              "      <th>year</th>\n",
              "    </tr>\n",
              "  </thead>\n",
              "  <tbody>\n",
              "    <tr>\n",
              "      <th>762</th>\n",
              "      <td>1950-02-01</td>\n",
              "      <td>0.00</td>\n",
              "      <td>27</td>\n",
              "      <td>1</td>\n",
              "      <td>False</td>\n",
              "      <td>1950.087611</td>\n",
              "    </tr>\n",
              "    <tr>\n",
              "      <th>4414</th>\n",
              "      <td>1960-02-01</td>\n",
              "      <td>0.15</td>\n",
              "      <td>52</td>\n",
              "      <td>44</td>\n",
              "      <td>True</td>\n",
              "      <td>1960.087611</td>\n",
              "    </tr>\n",
              "    <tr>\n",
              "      <th>8067</th>\n",
              "      <td>1970-02-01</td>\n",
              "      <td>0.00</td>\n",
              "      <td>50</td>\n",
              "      <td>42</td>\n",
              "      <td>False</td>\n",
              "      <td>1970.087611</td>\n",
              "    </tr>\n",
              "    <tr>\n",
              "      <th>11719</th>\n",
              "      <td>1980-02-01</td>\n",
              "      <td>0.37</td>\n",
              "      <td>54</td>\n",
              "      <td>36</td>\n",
              "      <td>True</td>\n",
              "      <td>1980.087611</td>\n",
              "    </tr>\n",
              "    <tr>\n",
              "      <th>15372</th>\n",
              "      <td>1990-02-01</td>\n",
              "      <td>0.08</td>\n",
              "      <td>45</td>\n",
              "      <td>37</td>\n",
              "      <td>True</td>\n",
              "      <td>1990.087611</td>\n",
              "    </tr>\n",
              "    <tr>\n",
              "      <th>19024</th>\n",
              "      <td>2000-02-01</td>\n",
              "      <td>1.34</td>\n",
              "      <td>49</td>\n",
              "      <td>41</td>\n",
              "      <td>True</td>\n",
              "      <td>2000.087611</td>\n",
              "    </tr>\n",
              "    <tr>\n",
              "      <th>22677</th>\n",
              "      <td>2010-02-01</td>\n",
              "      <td>0.08</td>\n",
              "      <td>49</td>\n",
              "      <td>40</td>\n",
              "      <td>True</td>\n",
              "      <td>2010.087611</td>\n",
              "    </tr>\n",
              "    <tr>\n",
              "      <th>25234</th>\n",
              "      <td>2017-02-01</td>\n",
              "      <td>0.00</td>\n",
              "      <td>43</td>\n",
              "      <td>29</td>\n",
              "      <td>False</td>\n",
              "      <td>2017.087611</td>\n",
              "    </tr>\n",
              "  </tbody>\n",
              "</table>\n",
              "</div>"
            ],
            "text/plain": [
              "            date  amount_of_precipitation  max_temperature  min_temperature  \\\n",
              "762   1950-02-01                     0.00               27                1   \n",
              "4414  1960-02-01                     0.15               52               44   \n",
              "8067  1970-02-01                     0.00               50               42   \n",
              "11719 1980-02-01                     0.37               54               36   \n",
              "15372 1990-02-01                     0.08               45               37   \n",
              "19024 2000-02-01                     1.34               49               41   \n",
              "22677 2010-02-01                     0.08               49               40   \n",
              "25234 2017-02-01                     0.00               43               29   \n",
              "\n",
              "        rain         year  \n",
              "762    False  1950.087611  \n",
              "4414    True  1960.087611  \n",
              "8067   False  1970.087611  \n",
              "11719   True  1980.087611  \n",
              "15372   True  1990.087611  \n",
              "19024   True  2000.087611  \n",
              "22677   True  2010.087611  \n",
              "25234  False  2017.087611  "
            ]
          },
          "execution_count": 1,
          "metadata": {},
          "output_type": "execute_result"
        }
      ],
      "source": [
        "import pandas\n",
        "#!wget https://raw.githubusercontent.com/MicrosoftDocs/mslearn-introduction-to-machine-learning/main/microsoft_custom_linear_regressor.py\n",
        "#!wget https://raw.githubusercontent.com/MicrosoftDocs/mslearn-introduction-to-machine-learning/main/Data/seattleWeather_1948-2017.csv\n",
        "from datetime import datetime\n",
        "\n",
        "# Load a file that contains our weather data\n",
        "url = \"https://raw.githubusercontent.com/MicrosoftDocs/mslearn-introduction-to-machine-learning/main/Data/seattleWeather_1948-2017.csv\"\n",
        "dataset = pandas.read_csv(url, parse_dates=['date'])\n",
        "\n",
        "# Convert the dates into numbers so we can use them in our models\n",
        "# We make a year column that can contain fractions. For example,\n",
        "# 1948.5 is halfway through the year 1948\n",
        "dataset[\"year\"] = [(d.year + d.timetuple().tm_yday / 365.25) for d in dataset.date]\n",
        "\n",
        "\n",
        "# For the sake of this exercise, let's look at February 1 for the following years:\n",
        "desired_dates = [\n",
        "    datetime(1950,2,1),\n",
        "    datetime(1960,2,1),\n",
        "    datetime(1970,2,1),\n",
        "    datetime(1980,2,1),\n",
        "    datetime(1990,2,1),\n",
        "    datetime(2000,2,1),\n",
        "    datetime(2010,2,1),\n",
        "    datetime(2017,2,1),\n",
        "]\n",
        "\n",
        "dataset = dataset[dataset.date.isin(desired_dates)].copy()\n",
        "\n",
        "# Print the dataset\n",
        "dataset\n"
      ]
    },
    {
      "cell_type": "markdown",
      "id": "d32f73d9-ed84-4c8c-b0a5-345e9e06cf4d",
      "metadata": {},
      "source": [
        "## Comparing two cost functions\n",
        "\n",
        "Let's compare two common cost functions: the _sum of squared differences_ (SSD) and the _sum of absolute differences_ (SAD). They both calculate the difference between each predicted value and the expected value. The distinction is simply: \n",
        "\n",
        "* SSD squares that difference and sums the result.\n",
        "* SAD converts differences into absolute differences and then sums them.\n",
        "\n",
        "To see these cost functions in action, we need to first implement them:"
      ]
    },
    {
      "cell_type": "code",
      "execution_count": 2,
      "id": "9bacbd82-3df3-4866-affd-29873b9ac821",
      "metadata": {},
      "outputs": [],
      "source": [
        "import numpy\n",
        "\n",
        "def sum_of_square_differences(estimate, actual):\n",
        "    # Note that with NumPy, to square each value we use **\n",
        "    return numpy.sum((estimate - actual)**2)\n",
        "\n",
        "def sum_of_absolute_differences(estimate, actual):\n",
        "    return numpy.sum(numpy.abs(estimate - actual))"
      ]
    },
    {
      "cell_type": "markdown",
      "id": "24b03b32-5e33-4c22-8bc9-49bbcd699b80",
      "metadata": {},
      "source": [
        "They're very similar. How do they behave? Let's test with some fake model estimates.\n",
        "\n",
        "Let's say that the correct answers are `1` and `3`, but the model estimates `2` and `2`:"
      ]
    },
    {
      "cell_type": "code",
      "execution_count": 3,
      "id": "aaaa7db6-de40-4b4d-bdf4-32598ed78b33",
      "metadata": {},
      "outputs": [
        {
          "name": "stdout",
          "output_type": "stream",
          "text": [
            "SSD: 2\n",
            "SAD: 2\n"
          ]
        }
      ],
      "source": [
        "actual_label = numpy.array([1, 3])\n",
        "model_estimate = numpy.array([2, 2])\n",
        "\n",
        "print(\"SSD:\", sum_of_square_differences(model_estimate, actual_label))\n",
        "print(\"SAD:\", sum_of_absolute_differences(model_estimate, actual_label))"
      ]
    },
    {
      "cell_type": "markdown",
      "id": "9491be52-a484-408c-a849-7a756f67d6c1",
      "metadata": {},
      "source": [
        "We have an error of `1` for each estimate, and both methods have returned the same error. \n",
        "\n",
        "What happens if we distribute these errors differently? Let's pretend that we estimated the first value perfectly, but were off by `2` for the second value: "
      ]
    },
    {
      "cell_type": "code",
      "execution_count": 4,
      "id": "7277446d-11f9-4ece-8bb4-37c912bc030f",
      "metadata": {},
      "outputs": [
        {
          "name": "stdout",
          "output_type": "stream",
          "text": [
            "SSD: 4\n",
            "SAD: 2\n"
          ]
        }
      ],
      "source": [
        "actual_label = numpy.array([1, 3])\n",
        "model_estimate = numpy.array([1, 1])\n",
        "\n",
        "print(\"SSD:\", sum_of_square_differences(model_estimate, actual_label))\n",
        "print(\"SAD:\", sum_of_absolute_differences(model_estimate, actual_label))"
      ]
    },
    {
      "cell_type": "markdown",
      "id": "9422fc81-9c11-4786-ac0b-53fe29256c8e",
      "metadata": {},
      "source": [
        "SAD has calculated the same cost as before, because the average error is still the same (`1 + 1 = 0 + 2`). According to SAD, the first and second set of estimates were equally good. \n",
        "\n",
        "By contrast, SSD has given a higher (worse) cost for the second set of estimates ( $1^2 + 1^2 < 0^2 + 2^2 $ ). When we use SSD, we encourage models to be both accurate and consistent in their accuracy.\n",
        "\n",
        "\n",
        "## Differences in action\n",
        "\n",
        "Let's compare how our two cost functions affect model fitting.\n",
        "\n",
        "First, fit a model by using the SSD cost function:"
      ]
    },
    {
      "cell_type": "code",
      "execution_count": 6,
      "id": "abca511c-4e1d-49d1-8112-e8d753639a58",
      "metadata": {},
      "outputs": [
        {
          "data": {
            "text/plain": [
              "<matplotlib.legend.Legend at 0x2e68ebdf860>"
            ]
          },
          "execution_count": 6,
          "metadata": {},
          "output_type": "execute_result"
        },
        {
          "data": {
            "image/png": "[encoded data removed]",
            "text/plain": [
              "<Figure size 640x480 with 1 Axes>"
            ]
          },
          "metadata": {},
          "output_type": "display_data"
        }
      ],
      "source": [
        "from microsoft_custom_linear_regressor import MicrosoftCustomLinearRegressor\n",
        "import matplotlib.pyplot as plt\n",
        "\n",
        "# Create and fit the model\n",
        "# We use a custom object that we've hidden from this notebook, because\n",
        "# you don't need to understand its details. This fits a linear model\n",
        "# by using a provided cost function\n",
        "\n",
        "# Fit a model by using sum of square differences\n",
        "model = MicrosoftCustomLinearRegressor().fit(X = dataset.year, \n",
        "                                             y = dataset.min_temperature, \n",
        "                                             cost_function = sum_of_square_differences)\n",
        "\n",
        "# Graph the model\n",
        "plt.scatter(dataset[\"year\"], dataset[\"min_temperature\"])\n",
        "plt.plot(dataset[\"year\"], model.predict(dataset[\"year\"]), 'r', label='Fitted line')\n",
        "\n",
        "                                                 \n",
        "# add labels and legend\n",
        "plt.xlabel(\"year\")\n",
        "plt.ylabel(\"min_temperature\")\n",
        "plt.legend()"
      ]
    },
    {
      "attachments": {},
      "cell_type": "markdown",
      "id": "08f7a057-c6a3-493f-a0e2-52aa27fdadac",
      "metadata": {},
      "source": [
        "Our SSD method normally does well, but here it did a poor job. The line is a far distance from the values for many years. Why? Notice that the datapoint at the lower left doesn't seem to follow the trend of the other datapoints. 1950 was a very cold winter in Seattle, and this datapoint is strongly influencing our final model (the red line). What happens if we change the cost function?\n",
        "\n",
        "### Sum of absolute differences\n",
        "\n",
        "Let's repeat what we've just done, but using SAD."
      ]
    },
    {
      "cell_type": "code",
      "execution_count": 7,
      "id": "4d3739e7-c8b5-4dbd-98b1-4bb4a00ae92c",
      "metadata": {},
      "outputs": [
        {
          "data": {
            "text/plain": [
              "<matplotlib.legend.Legend at 0x2e6f04414f0>"
            ]
          },
          "execution_count": 7,
          "metadata": {},
          "output_type": "execute_result"
        },
        {
          "data": {
            "image/png": "[encoded data removed]",
            "text/plain": [
              "<Figure size 640x480 with 1 Axes>"
            ]
          },
          "metadata": {},
          "output_type": "display_data"
        }
      ],
      "source": [
        "# Fit a model with SAD\n",
        "# Fit a model by using sum of absolute differences\n",
        "model = MicrosoftCustomLinearRegressor().fit(X = dataset.year, \n",
        "                                             y = dataset.min_temperature, \n",
        "                                             cost_function = sum_of_absolute_differences)\n",
        "\n",
        "# Graph the model\n",
        "plt.scatter(dataset[\"year\"], dataset[\"min_temperature\"])\n",
        "plt.plot(dataset[\"year\"], model.predict(dataset[\"year\"]), 'r', label='Fitted line')\n",
        "\n",
        "                                                 \n",
        "# add labels and legend\n",
        "plt.xlabel(\"year\")\n",
        "plt.ylabel(\"min_temperature\")\n",
        "plt.legend()\n"
      ]
    },
    {
      "cell_type": "markdown",
      "id": "208bb130-c826-4a6d-8c06-52a130512e1e",
      "metadata": {},
      "source": [
        "It's clear that this line passes through the majority of points much better than before, at the expense of almost ignoring the measurement taken in 1950. \n",
        "\n",
        "In our farming scenario, we're interested in how average temperatures are changing over time. We don't have much interest in 1950 specifically, so for us, this is a better result. In other situations, of course, we might consider this result worse.\n",
        "\n",
        "\n",
        "## Summary\n",
        "\n",
        "In this exercise, you learned about how changing the cost function that's used during fitting can result in different final results. \n",
        "\n",
        "You also learned how this behavior happens because these cost functions describe the \"best\" way to fit a model; although from a data analyst's point of view, there can be drawbacks no matter which cost function is chosen."
      ]
    }
  ],
  "metadata": {
    "kernel_info": {
      "name": "conda-env-azureml_py38-py"
    },
    "kernelspec": {
      "display_name": "Python 3",
      "language": "python",
      "name": "python3"
    },
    "language_info": {
      "codemirror_mode": {
        "name": "ipython",
        "version": 3
      },
      "file_extension": ".py",
      "mimetype": "text/x-python",
      "name": "python",
      "nbconvert_exporter": "python",
      "pygments_lexer": "ipython3",
      "version": "3.12.5"
    },
    "nteract": {
      "version": "nteract-front-end@1.0.0"
    }
  },
  "nbformat": 4,
  "nbformat_minor": 5
}
