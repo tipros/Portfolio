{
  "cells": [
    {
      "cell_type": "markdown",
      "metadata": {},
      "source": [
        "# Exercise: Build a simple logistic regression model\n",
        "\n",
        "In this exercise, we'll fit a simple logistic regression model that will try to predict the chance of an avalanche. \n",
        "\n",
        "Recall that logistic regression fits an s-shaped curve to data, rather than a straight line, and we can use this to calculate a probability of a binary outcome.\n",
        "\n",
        "## Data visualization\n",
        "\n",
        "Let's start this exercise by loading in and having a look at our data:"
      ]
    },
    {
      "cell_type": "code",
      "execution_count": 1,
      "metadata": {
        "scrolled": true
      },
      "outputs": [
        {
          "data": {
            "text/html": [
              "<div>\n",
              "<style scoped>\n",
              "    .dataframe tbody tr th:only-of-type {\n",
              "        vertical-align: middle;\n",
              "    }\n",
              "\n",
              "    .dataframe tbody tr th {\n",
              "        vertical-align: top;\n",
              "    }\n",
              "\n",
              "    .dataframe thead th {\n",
              "        text-align: right;\n",
              "    }\n",
              "</style>\n",
              "<table border=\"1\" class=\"dataframe\">\n",
              "  <thead>\n",
              "    <tr style=\"text-align: right;\">\n",
              "      <th></th>\n",
              "      <th>Unnamed: 0</th>\n",
              "      <th>avalanche</th>\n",
              "      <th>no_visitors</th>\n",
              "      <th>surface_hoar</th>\n",
              "      <th>fresh_thickness</th>\n",
              "      <th>wind</th>\n",
              "      <th>weak_layers</th>\n",
              "      <th>tracked_out</th>\n",
              "    </tr>\n",
              "  </thead>\n",
              "  <tbody>\n",
              "    <tr>\n",
              "      <th>0</th>\n",
              "      <td>0</td>\n",
              "      <td>0</td>\n",
              "      <td>4</td>\n",
              "      <td>3.900508</td>\n",
              "      <td>8.715485</td>\n",
              "      <td>6</td>\n",
              "      <td>9</td>\n",
              "      <td>0</td>\n",
              "    </tr>\n",
              "    <tr>\n",
              "      <th>1</th>\n",
              "      <td>1</td>\n",
              "      <td>0</td>\n",
              "      <td>9</td>\n",
              "      <td>1.477586</td>\n",
              "      <td>6.801417</td>\n",
              "      <td>30</td>\n",
              "      <td>0</td>\n",
              "      <td>0</td>\n",
              "    </tr>\n",
              "    <tr>\n",
              "      <th>2</th>\n",
              "      <td>2</td>\n",
              "      <td>1</td>\n",
              "      <td>3</td>\n",
              "      <td>3.236594</td>\n",
              "      <td>5.632457</td>\n",
              "      <td>8</td>\n",
              "      <td>8</td>\n",
              "      <td>1</td>\n",
              "    </tr>\n",
              "    <tr>\n",
              "      <th>3</th>\n",
              "      <td>3</td>\n",
              "      <td>0</td>\n",
              "      <td>0</td>\n",
              "      <td>3.244283</td>\n",
              "      <td>9.348871</td>\n",
              "      <td>12</td>\n",
              "      <td>10</td>\n",
              "      <td>0</td>\n",
              "    </tr>\n",
              "    <tr>\n",
              "      <th>4</th>\n",
              "      <td>4</td>\n",
              "      <td>1</td>\n",
              "      <td>2</td>\n",
              "      <td>5.196741</td>\n",
              "      <td>3.782315</td>\n",
              "      <td>4</td>\n",
              "      <td>9</td>\n",
              "      <td>1</td>\n",
              "    </tr>\n",
              "    <tr>\n",
              "      <th>...</th>\n",
              "      <td>...</td>\n",
              "      <td>...</td>\n",
              "      <td>...</td>\n",
              "      <td>...</td>\n",
              "      <td>...</td>\n",
              "      <td>...</td>\n",
              "      <td>...</td>\n",
              "      <td>...</td>\n",
              "    </tr>\n",
              "    <tr>\n",
              "      <th>1090</th>\n",
              "      <td>1090</td>\n",
              "      <td>1</td>\n",
              "      <td>1</td>\n",
              "      <td>2.182905</td>\n",
              "      <td>6.109184</td>\n",
              "      <td>3</td>\n",
              "      <td>9</td>\n",
              "      <td>0</td>\n",
              "    </tr>\n",
              "    <tr>\n",
              "      <th>1091</th>\n",
              "      <td>1091</td>\n",
              "      <td>0</td>\n",
              "      <td>2</td>\n",
              "      <td>3.718231</td>\n",
              "      <td>10.426100</td>\n",
              "      <td>28</td>\n",
              "      <td>0</td>\n",
              "      <td>0</td>\n",
              "    </tr>\n",
              "    <tr>\n",
              "      <th>1092</th>\n",
              "      <td>1092</td>\n",
              "      <td>1</td>\n",
              "      <td>8</td>\n",
              "      <td>7.037647</td>\n",
              "      <td>9.741006</td>\n",
              "      <td>34</td>\n",
              "      <td>3</td>\n",
              "      <td>0</td>\n",
              "    </tr>\n",
              "    <tr>\n",
              "      <th>1093</th>\n",
              "      <td>1093</td>\n",
              "      <td>0</td>\n",
              "      <td>2</td>\n",
              "      <td>2.449889</td>\n",
              "      <td>7.337579</td>\n",
              "      <td>37</td>\n",
              "      <td>10</td>\n",
              "      <td>1</td>\n",
              "    </tr>\n",
              "    <tr>\n",
              "      <th>1094</th>\n",
              "      <td>1094</td>\n",
              "      <td>1</td>\n",
              "      <td>3</td>\n",
              "      <td>4.881081</td>\n",
              "      <td>10.457047</td>\n",
              "      <td>9</td>\n",
              "      <td>7</td>\n",
              "      <td>0</td>\n",
              "    </tr>\n",
              "  </tbody>\n",
              "</table>\n",
              "<p>1095 rows × 8 columns</p>\n",
              "</div>"
            ],
            "text/plain": [
              "      Unnamed: 0  avalanche  no_visitors  surface_hoar  fresh_thickness  wind  \\\n",
              "0              0          0            4      3.900508         8.715485     6   \n",
              "1              1          0            9      1.477586         6.801417    30   \n",
              "2              2          1            3      3.236594         5.632457     8   \n",
              "3              3          0            0      3.244283         9.348871    12   \n",
              "4              4          1            2      5.196741         3.782315     4   \n",
              "...          ...        ...          ...           ...              ...   ...   \n",
              "1090        1090          1            1      2.182905         6.109184     3   \n",
              "1091        1091          0            2      3.718231        10.426100    28   \n",
              "1092        1092          1            8      7.037647         9.741006    34   \n",
              "1093        1093          0            2      2.449889         7.337579    37   \n",
              "1094        1094          1            3      4.881081        10.457047     9   \n",
              "\n",
              "      weak_layers  tracked_out  \n",
              "0               9            0  \n",
              "1               0            0  \n",
              "2               8            1  \n",
              "3              10            0  \n",
              "4               9            1  \n",
              "...           ...          ...  \n",
              "1090            9            0  \n",
              "1091            0            0  \n",
              "1092            3            0  \n",
              "1093           10            1  \n",
              "1094            7            0  \n",
              "\n",
              "[1095 rows x 8 columns]"
            ]
          },
          "execution_count": 1,
          "metadata": {},
          "output_type": "execute_result"
        }
      ],
      "source": [
        "import pandas\n",
        "#!pip install statsmodels\n",
        "#!wget https://raw.githubusercontent.com/MicrosoftDocs/mslearn-introduction-to-machine-learning/main/graphing.py\n",
        "#!wget https://raw.githubusercontent.com/MicrosoftDocs/mslearn-introduction-to-machine-learning/main/Data/avalanche.csv\n",
        "\n",
        "#Import the data from the .csv file\n",
        "url = \"https://raw.githubusercontent.com/MicrosoftDocs/mslearn-introduction-to-machine-learning/main/Data/avalanche.csv\"\n",
        "dataset = pandas.read_csv(url, delimiter=\"\\t\")\n",
        "\n",
        "#Let's have a look at the data\n",
        "dataset"
      ]
    },
    {
      "cell_type": "markdown",
      "metadata": {},
      "source": [
        "## Data Exploration\n",
        "\n",
        "The `avalanche` field is our target. A value of `1` means that an avalanche did occur at the conditions described by the features, whereas a value of `0` means no avalanche happened. Because our targets can only be `0` or `1`, we call this a *binary classification* model.\n",
        "\n",
        "Now, let's plot the relationships between each feature and the target values. That helps us understand which features are more likely to influence the results:"
      ]
    },
    {
      "cell_type": "code",
      "execution_count": 2,
      "metadata": {},
      "outputs": [
        {
          "data": {
            "image/png": "[encoded data removed]",
            "text/plain": [
              "<Figure size 640x480 with 4 Axes>"
            ]
          },
          "metadata": {},
          "output_type": "display_data"
        }
      ],
      "source": [
        "import matplotlib.pyplot as plt\n",
        "\n",
        "# Create subplots\n",
        "fig, axs = plt.subplots(2, 2)\n",
        "\n",
        "# Create box plots\n",
        "axs[0, 0].boxplot([dataset[\"avalanche\"], dataset[\"surface_hoar\"]])\n",
        "axs[0, 0].set_xticklabels(['Avalanche', 'Surface Hoar'])\n",
        "axs[0, 0].set_ylabel('Values')\n",
        "\n",
        "axs[0, 1].boxplot([dataset[\"avalanche\"], dataset[\"fresh_thickness\"]])\n",
        "axs[0, 1].set_xticklabels(['Avalanche', 'Fresh Thickness'])\n",
        "axs[0, 1].set_ylabel('Values')\n",
        "\n",
        "axs[1, 0].boxplot([dataset[\"avalanche\"], dataset[\"weak_layers\"]])\n",
        "axs[1, 0].set_xticklabels(['Avalanche', 'Weak Layers'])\n",
        "axs[1, 0].set_ylabel('Values')\n",
        "\n",
        "axs[1, 1].boxplot([dataset[\"avalanche\"], dataset[\"no_visitors\"]])\n",
        "axs[1, 1].set_xticklabels(['Avalanche', 'Visitors'])\n",
        "axs[1, 1].set_ylabel('Values')\n",
        "\n",
        "plt.tight_layout()\n",
        "\n",
        "plt.show()"
      ]
    },
    {
      "cell_type": "markdown",
      "metadata": {},
      "source": [
        "We can notice that:\n",
        "\n",
        "- For `fresh_thickness` the outcomes are very similar. This means that variations in their values aren't strongly correlated with the results.\n",
        "\n",
        "- Variations in values for `weak_layers` and `no_visitors` seem to correlate with a larger number of `avalanche` results, and thus we should assign more importance to these features.\n",
        "\n",
        "The differences between avalanche and non-avalanche days are small, and there isn't one clear driver of issues. Weak layers looks like a good starting point because it's related to the widest variation in results.\n",
        "\n",
        "## Building a simple logistic regression model\n",
        "\n",
        "We will now build and train a model to predict the chance of an avalanche happening based __solely__ on the number of weak layers of snow:"
      ]
    },
    {
      "cell_type": "code",
      "execution_count": 3,
      "metadata": {},
      "outputs": [
        {
          "name": "stdout",
          "output_type": "stream",
          "text": [
            "(766, 8)\n",
            "(329, 8)\n"
          ]
        }
      ],
      "source": [
        "# Here we import a function that splits datasets according to a given ratio\n",
        "from sklearn.model_selection import train_test_split\n",
        "\n",
        "# Split the dataset in an 70/30 train/test ratio. \n",
        "train, test = train_test_split(dataset, test_size=0.3, random_state=2)\n",
        "print(train.shape)\n",
        "print(test.shape)"
      ]
    },
    {
      "cell_type": "markdown",
      "metadata": {},
      "source": [
        "OK, lets train our model, using the `train` dataset we've just created (notice that `weak_layers` will be the only feature used to determine the outcome):"
      ]
    },
    {
      "cell_type": "code",
      "execution_count": 4,
      "metadata": {},
      "outputs": [
        {
          "name": "stdout",
          "output_type": "stream",
          "text": [
            "Optimization terminated successfully.\n",
            "         Current function value: 0.631451\n",
            "         Iterations 5\n",
            "Model trained\n"
          ]
        }
      ],
      "source": [
        "import statsmodels.formula.api as smf\n",
        "\n",
        "# Perform logistic regression.\n",
        "model = smf.logit(\"avalanche ~ weak_layers\", train).fit()\n",
        "\n",
        "print(\"Model trained\")"
      ]
    },
    {
      "cell_type": "markdown",
      "metadata": {},
      "source": [
        "After training, we can print a model summary with very detailed information:"
      ]
    },
    {
      "cell_type": "code",
      "execution_count": 5,
      "metadata": {},
      "outputs": [
        {
          "name": "stdout",
          "output_type": "stream",
          "text": [
            "                           Logit Regression Results                           \n",
            "==============================================================================\n",
            "Dep. Variable:              avalanche   No. Observations:                  766\n",
            "Model:                          Logit   Df Residuals:                      764\n",
            "Method:                           MLE   Df Model:                            1\n",
            "Date:                Tue, 02 Sep 2025   Pseudo R-squ.:                 0.07898\n",
            "Time:                        16:05:44   Log-Likelihood:                -483.69\n",
            "converged:                       True   LL-Null:                       -525.17\n",
            "Covariance Type:            nonrobust   LLR p-value:                 8.395e-20\n",
            "===============================================================================\n",
            "                  coef    std err          z      P>|z|      [0.025      0.975]\n",
            "-------------------------------------------------------------------------------\n",
            "Intercept      -0.8586      0.147     -5.856      0.000      -1.146      -0.571\n",
            "weak_layers     0.2241      0.026      8.648      0.000       0.173       0.275\n",
            "===============================================================================\n"
          ]
        }
      ],
      "source": [
        "print(model.summary())"
      ]
    },
    {
      "attachments": {},
      "cell_type": "markdown",
      "metadata": {},
      "source": [
        "Notice that the positive coefficient for `weak_layers` means that a higher value indicates a higher likelihood for an avalanche.\n"
      ]
    },
    {
      "cell_type": "markdown",
      "metadata": {},
      "source": [
        "## Using our model\n",
        "\n",
        "We can now use our trained model to make predictions and estimate probabilities.\n",
        "\n",
        "Let's pick the first four occurrences in our `test` set and print the probability of an avalanche for each one of them:"
      ]
    },
    {
      "cell_type": "code",
      "execution_count": 6,
      "metadata": {},
      "outputs": [
        {
          "name": "stdout",
          "output_type": "stream",
          "text": [
            "A weak_layer with value 5 yields a 56.51% chance of an avalanche.\n",
            "A weak_layer with value 4 yields a 50.95% chance of an avalanche.\n",
            "A weak_layer with value 7 yields a 67.05% chance of an avalanche.\n",
            "A weak_layer with value 0 yields a 29.76% chance of an avalanche.\n"
          ]
        }
      ],
      "source": [
        "# predict to get a probability\n",
        "\n",
        "# get first 3 samples from dataset\n",
        "samples = test[\"weak_layers\"][:4]\n",
        "\n",
        "# use the model to get predictions as possibilities\n",
        "estimated_probabilities = model.predict(samples)\n",
        "\n",
        "# Print results for each sample\n",
        "for sample, pred in zip(samples,estimated_probabilities):\n",
        "    print(f\"A weak_layer with value {sample} yields a {pred * 100:.2f}% chance of an avalanche.\")\n"
      ]
    },
    {
      "cell_type": "markdown",
      "metadata": {},
      "source": [
        "Let's plot out model to understand this:"
      ]
    },
    {
      "cell_type": "code",
      "execution_count": 7,
      "metadata": {},
      "outputs": [
        {
          "data": {
            "image/png": "[encoded data removed]",
            "text/plain": [
              "<Figure size 640x480 with 1 Axes>"
            ]
          },
          "metadata": {},
          "output_type": "display_data"
        }
      ],
      "source": [
        "import matplotlib.pyplot as plt\n",
        "import pandas as pd\n",
        "\n",
        "predict = lambda x: model.predict(pd.DataFrame({\"weak_layers\": x}))\n",
        "\n",
        "# Generate x values\n",
        "x_values = range(-20, 40)\n",
        "y_values = predict(x_values)\n",
        "\n",
        "# Create the plot\n",
        "plt.plot(x_values, y_values, label=\"Model\")\n",
        "\n",
        "# Add labels\n",
        "plt.xlabel(\"weak_layers\")\n",
        "plt.ylabel(\"estimated probability of an avalanche\")\n",
        "plt.legend()\n",
        "\n",
        "plt.show()"
      ]
    },
    {
      "cell_type": "markdown",
      "metadata": {},
      "source": [
        "The line plots the function of the __probability__ of an avalanche over the number of weak layers; Notice that the more weak layers, the more likely an avalanche will happen. This plot can look a bit confusing for two reasons.\n",
        "\n",
        "Firstly, the curve can make predictions from negative to positive infinity, but we only have data for 0 - 10 layers:"
      ]
    },
    {
      "cell_type": "code",
      "execution_count": 8,
      "metadata": {},
      "outputs": [
        {
          "name": "stdout",
          "output_type": "stream",
          "text": [
            "Minimum number of weak layers: 0\n",
            "Maximum number of weak layers: 10\n"
          ]
        }
      ],
      "source": [
        "print(\"Minimum number of weak layers:\", min(train.weak_layers))\n",
        "print(\"Maximum number of weak layers:\", max(train.weak_layers))"
      ]
    },
    {
      "cell_type": "markdown",
      "metadata": {},
      "source": [
        "This is because logistic regression models allow predictions outside the range of values they have seen, and sometimes do so quite well.\n",
        "\n",
        "The second reason the plot is confusing is that at 0 layers, there's still _some_ risk of an avalanche. Similarly, at 10 layers, there isn't a 100% risk of an avalanche. This is actually in line with the data:"
      ]
    },
    {
      "cell_type": "code",
      "execution_count": 9,
      "metadata": {},
      "outputs": [
        {
          "name": "stdout",
          "output_type": "stream",
          "text": [
            "Average rate of avalanches for 0 weak layers of snow 0.3880597014925373\n",
            "Average rate of avalanches for 10 weak layers of snow 0.7761194029850746\n"
          ]
        }
      ],
      "source": [
        "import numpy as np\n",
        "\n",
        "# Get actual rates of avalanches at 0 layers\n",
        "avalanche_outcomes_for_0_layers = train[train.weak_layers == 0].avalanche\n",
        "print(\"Average rate of avalanches for 0 weak layers of snow\", np.average(avalanche_outcomes_for_0_layers))\n",
        "\n",
        "# Get actual rates of avalanches at 10 layers\n",
        "avalanche_outcomes_for_10_layers = train[train.weak_layers == 10].avalanche\n",
        "print(\"Average rate of avalanches for 10 weak layers of snow\", np.average(avalanche_outcomes_for_10_layers))"
      ]
    },
    {
      "cell_type": "markdown",
      "metadata": {},
      "source": [
        "Our model is actually doing a good job! It's just that avalanches aren't _only_ caused by weak layers of snow. If we want to do better, we probably need to think about including other information in the model."
      ]
    },
    {
      "cell_type": "markdown",
      "metadata": {},
      "source": [
        "## Classification or decision thresholds\n",
        "To return a binary category (`True` = \"avalanche\", `False` = \"no avalanche\") we need to define a *Classification Threshold* value. Any probability above that threshold is returned as the positive category, whereas values below it will be returned as the negative category.\n",
        "\n",
        "Let's see what happens if set our threshold to `0.5` (meaning that our model will return `True` whenever it calculates a chance above 50% of an avalanche happening):"
      ]
    },
    {
      "cell_type": "code",
      "execution_count": 10,
      "metadata": {},
      "outputs": [
        {
          "name": "stdout",
          "output_type": "stream",
          "text": [
            "A weak_layer with value 5 yields a chance of 56.51% of an avalanche. Classification = True\n",
            "A weak_layer with value 4 yields a chance of 50.95% of an avalanche. Classification = True\n",
            "A weak_layer with value 7 yields a chance of 67.05% of an avalanche. Classification = True\n",
            "A weak_layer with value 0 yields a chance of 29.76% of an avalanche. Classification = False\n"
          ]
        }
      ],
      "source": [
        "# threshold to get an absolute value\n",
        "threshold = 0.5\n",
        "\n",
        "# Add classification to the samples we used before\n",
        "for sample, pred in list(zip(samples,estimated_probabilities)):\n",
        "    print(f\"A weak_layer with value {sample} yields a chance of {pred * 100:.2f}% of an avalanche. Classification = {pred > threshold}\")\n",
        "\n"
      ]
    },
    {
      "cell_type": "markdown",
      "metadata": {},
      "source": [
        "Note that a `0.5` threshold is just a starting point that needs to be tuned depending on the data we're trying to classify.\n",
        "\n",
        "## Performance on test set\n",
        "Now let's use our `test` dataset to perform a quick evaluation on how the model did. For now, we'll just look at how often we correctly predicted if there would be an avalanche or not"
      ]
    },
    {
      "cell_type": "code",
      "execution_count": 11,
      "metadata": {},
      "outputs": [
        {
          "name": "stdout",
          "output_type": "stream",
          "text": [
            "The model correctly predicted outcomes 65.05% of time.\n"
          ]
        }
      ],
      "source": [
        "# Classify the mdel predictions using the threshold\n",
        "predictions = model.predict(test) > threshold\n",
        "\n",
        "# Compare the predictions to the actual outcomes in the dataset\n",
        "accuracy = np.average(predictions == test.avalanche)\n",
        "\n",
        "# Print the evaluation\n",
        "print(f\"The model correctly predicted outcomes {accuracy * 100:.2f}% of time.\")"
      ]
    },
    {
      "attachments": {},
      "cell_type": "markdown",
      "metadata": {},
      "source": [
        "Avalanches are hard to predict, but we're doing ok. It's hard to tell exactly what kind of mistakes our model is making, though. We'll focus on this in the next exercise.\n",
        "\n",
        "## Summary\n",
        "\n",
        "In this unit, we covered the following topics:\n",
        " - Using Data Exploration to understand which features have a stronger correlation to the outcomes\n",
        " - Building a simple Logistic Regression model\n",
        " - Using the trained model to predict _probabilities_\n",
        " - Using *thresholds* to map probabilities to binary classes\n",
        " - How to use a test set to measure the model's performance\n"
      ]
    }
  ],
  "metadata": {
    "kernel_info": {
      "name": "conda-env-azureml_py38-py"
    },
    "kernelspec": {
      "display_name": "Python 3",
      "language": "python",
      "name": "python3"
    },
    "language_info": {
      "codemirror_mode": {
        "name": "ipython",
        "version": 3
      },
      "file_extension": ".py",
      "mimetype": "text/x-python",
      "name": "python",
      "nbconvert_exporter": "python",
      "pygments_lexer": "ipython3",
      "version": "3.12.5"
    },
    "nteract": {
      "version": "nteract-front-end@1.0.0"
    }
  },
  "nbformat": 4,
  "nbformat_minor": 2
}
